{
 "cells": [
  {
   "cell_type": "markdown",
   "metadata": {},
   "source": [
    "**Import Libraries**"
   ]
  },
  {
   "cell_type": "code",
   "execution_count": null,
   "metadata": {},
   "outputs": [],
   "source": [
    "import pymysql as sql\n",
    "import numpy as np\n",
    "import pandas as pd\n",
    "import pygsheets as sheets\n",
    "import getpass "
   ]
  },
  {
   "cell_type": "markdown",
   "metadata": {},
   "source": [
    "**Connect to Local F1DB**"
   ]
  },
  {
   "cell_type": "code",
   "execution_count": null,
   "metadata": {},
   "outputs": [],
   "source": [
    "password = getpass.getpass()\n",
    "f1 = sql.connect('localhost', 'root', password, 'f1db')"
   ]
  },
  {
   "cell_type": "markdown",
   "metadata": {},
   "source": [
    "**Read Tables**"
   ]
  },
  {
   "cell_type": "code",
   "execution_count": null,
   "metadata": {},
   "outputs": [],
   "source": [
    "races_tbl = pd.read_sql('SELECT * FROM races', f1)\n",
    "circuits_tbl = pd.read_sql('SELECT * FROM circuits', f1)\n",
    "results_tbl = pd.read_sql('SELECT * FROM results', f1)\n",
    "drivers_tbl = pd.read_sql('SELECT * FROM drivers', f1)\n",
    "constructors_tbl = pd.read_sql('SELECT * FROM constructors', f1)\n",
    "driverstandings_tbl = pd.read_sql('SELECT * FROM driverStandings', f1)"
   ]
  },
  {
   "cell_type": "markdown",
   "metadata": {},
   "source": [
    "**Join Tables**"
   ]
  },
  {
   "cell_type": "code",
   "execution_count": null,
   "metadata": {},
   "outputs": [],
   "source": [
    "races_circuits = pd.merge(races_tbl, circuits_tbl, on='circuitId')\n",
    "racefacts = races_circuits[['raceId','year','round','circuitId','name_x','date','time','url_x','name_y','location','country','lat','lng','url_y']]\n",
    "racefacts = racefacts.rename(columns={'name_x':'race_name','url_x':'race_url','name_y':'circuit_name','location':'city','url_y':'circuit_url'})"
   ]
  },
  {
   "cell_type": "markdown",
   "metadata": {},
   "source": [
    "**Calculate Fastest Laps by race**\n",
    "Join into racefacts"
   ]
  },
  {
   "cell_type": "code",
   "execution_count": null,
   "metadata": {},
   "outputs": [],
   "source": [
    "results = results_tbl\n",
    "results['fastestLapSpeed'] = results['fastestLapSpeed'].astype('float')\n",
    "fastest_lap = results.reindex(results.groupby(['raceId'])['fastestLapSpeed'].idxmax())\n",
    "fastest_lap = pd.merge(fastest_lap, drivers_tbl, on='driverId', how='left')\n",
    "fastest_lap['Fastest Lap Name'] = fastest_lap['forename'] + ' '  + fastest_lap['surname']\n",
    "fastest_lap = fastest_lap[['raceId', 'Fastest Lap Name','fastestLapTime','fastestLapSpeed',]]\n",
    "racefacts = pd.merge(racefacts, fastest_lap, on='raceId', how='left')"
   ]
  },
  {
   "cell_type": "markdown",
   "metadata": {},
   "source": [
    "**Podium results by race**"
   ]
  },
  {
   "cell_type": "code",
   "execution_count": null,
   "metadata": {},
   "outputs": [],
   "source": [
    "results = results_tbl\n",
    "\n",
    "first_place = results[results['positionOrder'] == 1]\n",
    "second_place = results[results['positionOrder'] == 2]\n",
    "third_place = results[results['positionOrder'] == 3]\n",
    "\n",
    "first_place = first_place.drop_duplicates(subset=['raceId'])\n",
    "second_place = second_place.drop_duplicates(subset=['raceId'])\n",
    "third_place = third_place.drop_duplicates(subset=['raceId'])\n",
    "\n",
    "first_place = pd.merge(first_place, drivers_tbl, on='driverId', how='left')\n",
    "second_place = pd.merge(second_place , drivers_tbl, on='driverId', how='left')\n",
    "third_place = pd.merge(third_place, drivers_tbl, on='driverId', how='left')\n",
    "\n",
    "first_place['First Place Name'] = first_place['forename'] + ' '  + first_place['surname']\n",
    "second_place['Second Place Name'] = second_place['forename'] + ' '  + second_place['surname']\n",
    "third_place['Third Place Name'] = third_place['forename'] + ' '  + third_place['surname']\n",
    "\n",
    "first_place = first_place[['raceId', 'First Place Name','milliseconds']]\n",
    "second_place = second_place[['raceId', 'Second Place Name','milliseconds']]\n",
    "third_place = third_place[['raceId', 'Third Place Name','milliseconds',]]\n",
    "\n",
    "racefacts = pd.merge(racefacts, first_place, on='raceId', how='left')\n",
    "racefacts = pd.merge(racefacts, second_place, on='raceId', how='left')\n",
    "racefacts = pd.merge(racefacts, third_place, on='raceId', how='left')"
   ]
  },
  {
   "cell_type": "markdown",
   "metadata": {},
   "source": [
    "**Display Podium Results by Constructor**"
   ]
  },
  {
   "cell_type": "code",
   "execution_count": null,
   "metadata": {},
   "outputs": [],
   "source": [
    "results = results_tbl\n",
    "constructors = constructors_tbl\n",
    "\n",
    "results['points'] = results['points'].astype('float')\n",
    "\n",
    "constructor_points = results.groupby(['raceId','constructorId'])['points'].sum()\n",
    "top_race_constructors = constructor_points.groupby(['raceId']).nlargest(2).to_frame(name ='points').reset_index(level=0,drop=True)\n",
    "\n",
    "top_race_constructors = top_race_constructors.reset_index()\n",
    "top_race_constructors['ranking']= top_race_constructors.groupby(['raceId']).cumcount()+1\n",
    "\n",
    "top_race_constructors = pd.merge(top_race_constructors, constructors, on='constructorId', how='left' )\n",
    "top_race_constructors = top_race_constructors[['raceId', 'points','ranking','name']]\n",
    "top_race_constructors.rename(columns={'name':'constructor'})\n",
    "\n",
    "top_race_constructors = top_race_constructors.pivot(index='raceId',columns='ranking')\n",
    "top_race_constructors.columns = ['_'.join(tuple(map(str, t))) for t in top_race_constructors.columns.values]\n",
    "\n",
    "\n",
    "racefacts = pd.merge(racefacts, top_race_constructors, on='raceId', how='left')\n",
    "racefacts = racefacts.rename(columns={'milliseconds_x':'First Place Time','milliseconds_y':'Second Place Time',\n",
    "                                      'milliseconds':'Third Place Time','location':'city','url_y':'circuit_url',\n",
    "                                      'points_1':'First Constructor Points','name_1':'First Constructor',\n",
    "                                      'points_2':'Second Constructor Points','name_2':'Second Constructor'\n",
    "                                     })\n"
   ]
  },
  {
   "cell_type": "markdown",
   "metadata": {},
   "source": [
    "**Constructor points by race**"
   ]
  },
  {
   "cell_type": "code",
   "execution_count": null,
   "metadata": {},
   "outputs": [],
   "source": [
    "races = races_tbl\n",
    "constructors = constructors_tbl\n",
    "constructor_points = constructor_points.reset_index()\n",
    "\n",
    "constructor_points = pd.merge(constructor_points, races, on='raceId')\n",
    "constructor_points = pd.merge(constructor_points, constructors, on='constructorId')\n",
    "\n",
    "constructor_points = constructor_points[['raceId','points','year','round','name_x','date','name_y']]\n",
    "constructor_points = constructor_points.rename(columns={'name_x':'Race Name','name_y':'Constructor Name'})\n",
    "constructor_points = constructor_points[constructor_points.points != 0]"
   ]
  },
  {
   "cell_type": "markdown",
   "metadata": {},
   "source": [
    "**Driver points by race**"
   ]
  },
  {
   "cell_type": "code",
   "execution_count": null,
   "metadata": {},
   "outputs": [],
   "source": [
    "results = results_tbl\n",
    "races = races_tbl\n",
    "constructors = constructors_tbl\n",
    "drivers = drivers_tbl\n",
    "drivers['Driver Name'] = drivers['forename'] + ' '  + drivers['surname']\n",
    "\n",
    "results = results[['resultId','raceId','driverId','constructorId','grid','positionText','positionOrder',\n",
    "                  'positionOrder', 'points','milliseconds']]\n",
    "races = races[['raceId','year','round','name','date']]\n",
    "constructors = constructors[['constructorId','name']]\n",
    "drivers = drivers[['driverId','Driver Name']]\n",
    "\n",
    "result_details = pd.merge(results, races, on='raceId', how='left')\n",
    "result_details = pd.merge(result_details, constructors, on='constructorId', how='left')\n",
    "result_details = pd.merge(result_details, drivers, on='driverId', how='left')\n",
    "\n",
    "result_details = result_details.rename(columns={'name_x':'Race Name', 'name_y' : 'Constructor Name'})\n",
    "result_details['join'] = 1"
   ]
  },
  {
   "cell_type": "markdown",
   "metadata": {},
   "source": [
    "**Driver Standings by Race"
   ]
  },
  {
   "cell_type": "code",
   "execution_count": null,
   "metadata": {},
   "outputs": [],
   "source": [
    "standings = driverstandings_tbl\n",
    "races = races_tbl\n",
    "constructors = constructors_tbl\n",
    "results = results_tbl\n",
    "drivers = drivers_tbl\n",
    "\n",
    "\n",
    "standings = standings[['driverStandingsId','raceId','driverId','points','position','wins']]\n",
    "races = races[['raceId','year','round','name','date']]\n",
    "drivers['Driver Name'] = drivers['forename'] + ' '  + drivers['surname']\n",
    "drivers = drivers[['driverId','Driver Name']]\n",
    "\n",
    "standings = pd.merge(standings, races, on='raceId', how='left')\n",
    "standings = pd.merge(standings, drivers, on='driverId', how='left')\n",
    "\n",
    "results['unique'] = results['raceId'].astype('str')+ ' ' + results['driverId'].astype('str')\n",
    "results = results[['resultId','unique','constructorId']]\n",
    "results = results.drop_duplicates(subset=['unique'])\n",
    "\n",
    "standings['unique'] = standings['raceId'].astype('str')+ ' ' + standings['driverId'].astype('str')\n",
    "standings = pd.merge(standings, results, on='unique', how='left')\n",
    "\n",
    "constructors = constructors[['constructorId','name']]\n",
    "standings = pd.merge(standings, constructors, on='constructorId', how='left')\n",
    "\n",
    "standings = standings.rename(columns={'name_x':'Race Name'})\n",
    "standings['join'] = 1"
   ]
  },
  {
   "cell_type": "markdown",
   "metadata": {},
   "source": [
    "**Publish to Google Sheets**"
   ]
  },
  {
   "cell_type": "code",
   "execution_count": null,
   "metadata": {},
   "outputs": [],
   "source": [
    "gc = sheets.authorize(service_file='/home/x220/Documents/service-accounts/service_account_credentials.json')\n",
    "sh = gc.open('f1db')\n",
    "wks = sh[0]\n",
    "wks.rows = racefacts.shape[0]\n",
    "wks.set_dataframe(racefacts,(1,1))\n",
    "\n",
    "wks = sh[1]\n",
    "wks.rows = constructor_points.shape[0]\n",
    "wks.set_dataframe(constructor_points,(1,1))\n",
    "\n",
    "wks = sh[2]\n",
    "wks.rows = result_details.shape[0]\n",
    "wks.set_dataframe(result_details,(1,1))\n",
    "\n",
    "wks = sh[3]\n",
    "wks.rows = standings.shape[0]\n",
    "wks.set_dataframe(standings,(1,1))"
   ]
  },
  {
   "cell_type": "markdown",
   "metadata": {},
   "source": [
    "**Filter/Sort/Display**"
   ]
  },
  {
   "cell_type": "code",
   "execution_count": null,
   "metadata": {},
   "outputs": [],
   "source": [
    "#races_circuits_results = pd.merge(races_circuits, results_tbl, on='raceId')\n",
    "#racedetails = pd.merge(races_circuits_results, drivers_tbl, on='driverId')"
   ]
  },
  {
   "cell_type": "code",
   "execution_count": null,
   "metadata": {},
   "outputs": [],
   "source": [
    "##races_circuits = races_circuits[['raceId','year','round','circuitId','name_x','date','time','url_x']]\n",
    "##races_circuits.sort_values(by=['year','round'])\n",
    "##display(racedetails.sort_values(by=['year','round']))"
   ]
  }
 ],
 "metadata": {
  "kernelspec": {
   "display_name": "Python 3",
   "language": "python",
   "name": "python3"
  },
  "language_info": {
   "codemirror_mode": {
    "name": "ipython",
    "version": 3
   },
   "file_extension": ".py",
   "mimetype": "text/x-python",
   "name": "python",
   "nbconvert_exporter": "python",
   "pygments_lexer": "ipython3",
   "version": "3.7.5"
  }
 },
 "nbformat": 4,
 "nbformat_minor": 4
}
